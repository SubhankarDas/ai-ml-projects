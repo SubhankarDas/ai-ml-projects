{
 "cells": [
  {
   "cell_type": "code",
   "execution_count": 10,
   "metadata": {},
   "outputs": [],
   "source": [
    "import numpy\n",
    "import matplotlib.pyplot as plot\n",
    "%matplotlib inline"
   ]
  },
  {
   "cell_type": "code",
   "execution_count": 11,
   "metadata": {},
   "outputs": [
    {
     "data": {
      "image/png": "[encoded data removed]",
      "text/plain": [
       "<Figure size 432x288 with 1 Axes>"
      ]
     },
     "metadata": {
      "needs_background": "light"
     },
     "output_type": "display_data"
    },
    {
     "data": {
      "image/png": "[encoded data removed]",
      "text/plain": [
       "<Figure size 432x288 with 1 Axes>"
      ]
     },
     "metadata": {
      "needs_background": "light"
     },
     "output_type": "display_data"
    }
   ],
   "source": [
    "#--- UNIFORM DATA DISTRIBUTION ---#\n",
    "# generate a huge random uniform data set to work with\n",
    "# distribution from 0 to 5 with 250 random values\n",
    "data = numpy.random.uniform(0, 5, 250)\n",
    "\n",
    "# display a histogram from data set\n",
    "plot.hist(data, 5)  # HISTOGRAM 1 (5 bars/distributions)\n",
    "plot.show()\n",
    "\n",
    "plot.hist(data, 10)  # HISTOGRAM 2 (10 bars/distributions)\n",
    "plot.show()"
   ]
  },
  {
   "cell_type": "markdown",
   "metadata": {},
   "source": [
    "#### HISTOGRAM 1: displays histogram with 5 bars (0-1,1-2, 2-3, 3-4, 4-5) for dist. of 0-5\n",
    "#### HISTOGRAM 2: displays histogram with 10 bars (0-0.5-1,1-1.5-2, 2-2.5-3, 3-3.5-4, 4-4.5-5) for dist. of 0-5"
   ]
  },
  {
   "cell_type": "code",
   "execution_count": 12,
   "metadata": {},
   "outputs": [
    {
     "data": {
      "image/png": "[encoded data removed]",
      "text/plain": [
       "<Figure size 432x288 with 1 Axes>"
      ]
     },
     "metadata": {
      "needs_background": "light"
     },
     "output_type": "display_data"
    }
   ],
   "source": [
    "#--- NORMAL DATA DISTRIBUTION ---#\n",
    "# generate a normal data set or Gaussian data distribution\n",
    "# normal data set is where all the values are close to a mean value\n",
    "# here the mean is 5 and std. deviation is 1.\n",
    "data = numpy.random.normal(5.0, 1.0, 100000)\n",
    "\n",
    "plot.hist(data, 100)  # HISTOGRAM 3 (normal dist. = bell shaped curve)\n",
    "plot.show()"
   ]
  },
  {
   "cell_type": "markdown",
   "metadata": {},
   "source": [
    "#### HISTOGRAM 3: Normal distribution graph i.e bell shaped curve"
   ]
  }
 ],
 "metadata": {
  "kernelspec": {
   "display_name": "Python 3.10.5 ('.venv_ai_ml_projects': venv)",
   "language": "python",
   "name": "python3"
  },
  "language_info": {
   "codemirror_mode": {
    "name": "ipython",
    "version": 3
   },
   "file_extension": ".py",
   "mimetype": "text/x-python",
   "name": "python",
   "nbconvert_exporter": "python",
   "pygments_lexer": "ipython3",
   "version": "3.10.5"
  },
  "orig_nbformat": 4,
  "vscode": {
   "interpreter": {
    "hash": "576765eac21ce8b1c0513a0f9ce9a9d67475f57d1c23d3b7ccf65a15e2fe0d19"
   }
  }
 },
 "nbformat": 4,
 "nbformat_minor": 2
}
