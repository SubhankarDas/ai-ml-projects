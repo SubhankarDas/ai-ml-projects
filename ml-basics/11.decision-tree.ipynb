{
 "cells": [
  {
   "cell_type": "markdown",
   "metadata": {},
   "source": [
    "#### Decision Tree\n",
    "\n",
    "**Decision Tree** is the most powerful and popular tool for classification and prediction. A Decision tree is a flowchart-like tree structure, where each internal node denotes a test on an attribute, each branch represents an outcome of the test, and each leaf node (terminal node) holds a class label.\n"
   ]
  },
  {
   "cell_type": "code",
   "execution_count": 22,
   "metadata": {},
   "outputs": [
    {
     "data": {
      "text/html": [
       "<div>\n",
       "<style scoped>\n",
       "    .dataframe tbody tr th:only-of-type {\n",
       "        vertical-align: middle;\n",
       "    }\n",
       "\n",
       "    .dataframe tbody tr th {\n",
       "        vertical-align: top;\n",
       "    }\n",
       "\n",
       "    .dataframe thead th {\n",
       "        text-align: right;\n",
       "    }\n",
       "</style>\n",
       "<table border=\"1\" class=\"dataframe\">\n",
       "  <thead>\n",
       "    <tr style=\"text-align: right;\">\n",
       "      <th></th>\n",
       "      <th>Age</th>\n",
       "      <th>Experience</th>\n",
       "      <th>Rank</th>\n",
       "      <th>Nationality</th>\n",
       "      <th>Go</th>\n",
       "    </tr>\n",
       "  </thead>\n",
       "  <tbody>\n",
       "    <tr>\n",
       "      <th>0</th>\n",
       "      <td>36</td>\n",
       "      <td>10</td>\n",
       "      <td>9</td>\n",
       "      <td>UK</td>\n",
       "      <td>NO</td>\n",
       "    </tr>\n",
       "    <tr>\n",
       "      <th>1</th>\n",
       "      <td>42</td>\n",
       "      <td>12</td>\n",
       "      <td>4</td>\n",
       "      <td>USA</td>\n",
       "      <td>NO</td>\n",
       "    </tr>\n",
       "    <tr>\n",
       "      <th>2</th>\n",
       "      <td>23</td>\n",
       "      <td>4</td>\n",
       "      <td>6</td>\n",
       "      <td>N</td>\n",
       "      <td>NO</td>\n",
       "    </tr>\n",
       "  </tbody>\n",
       "</table>\n",
       "</div>"
      ],
      "text/plain": [
       "   Age  Experience  Rank Nationality  Go\n",
       "0   36          10     9          UK  NO\n",
       "1   42          12     4         USA  NO\n",
       "2   23           4     6           N  NO"
      ]
     },
     "metadata": {},
     "output_type": "display_data"
    }
   ],
   "source": [
    "import pandas\n",
    "from sklearn import tree\n",
    "import pydotplus\n",
    "from sklearn.tree import DecisionTreeClassifier\n",
    "import matplotlib.pyplot as plt\n",
    "import matplotlib.image as pltimg\n",
    "\n",
    "# read data set and display\n",
    "df = pandas.read_csv(\"../data/shows.csv\")\n",
    "display(df.head(3))\n"
   ]
  },
  {
   "cell_type": "code",
   "execution_count": 23,
   "metadata": {},
   "outputs": [
    {
     "data": {
      "text/html": [
       "<div>\n",
       "<style scoped>\n",
       "    .dataframe tbody tr th:only-of-type {\n",
       "        vertical-align: middle;\n",
       "    }\n",
       "\n",
       "    .dataframe tbody tr th {\n",
       "        vertical-align: top;\n",
       "    }\n",
       "\n",
       "    .dataframe thead th {\n",
       "        text-align: right;\n",
       "    }\n",
       "</style>\n",
       "<table border=\"1\" class=\"dataframe\">\n",
       "  <thead>\n",
       "    <tr style=\"text-align: right;\">\n",
       "      <th></th>\n",
       "      <th>Age</th>\n",
       "      <th>Experience</th>\n",
       "      <th>Rank</th>\n",
       "      <th>Nationality</th>\n",
       "      <th>Go</th>\n",
       "    </tr>\n",
       "  </thead>\n",
       "  <tbody>\n",
       "    <tr>\n",
       "      <th>0</th>\n",
       "      <td>36</td>\n",
       "      <td>10</td>\n",
       "      <td>9</td>\n",
       "      <td>0</td>\n",
       "      <td>0</td>\n",
       "    </tr>\n",
       "    <tr>\n",
       "      <th>1</th>\n",
       "      <td>42</td>\n",
       "      <td>12</td>\n",
       "      <td>4</td>\n",
       "      <td>1</td>\n",
       "      <td>0</td>\n",
       "    </tr>\n",
       "    <tr>\n",
       "      <th>2</th>\n",
       "      <td>23</td>\n",
       "      <td>4</td>\n",
       "      <td>6</td>\n",
       "      <td>2</td>\n",
       "      <td>0</td>\n",
       "    </tr>\n",
       "  </tbody>\n",
       "</table>\n",
       "</div>"
      ],
      "text/plain": [
       "   Age  Experience  Rank  Nationality  Go\n",
       "0   36          10     9            0   0\n",
       "1   42          12     4            1   0\n",
       "2   23           4     6            2   0"
      ]
     },
     "metadata": {},
     "output_type": "display_data"
    }
   ],
   "source": [
    "# to create a decision tree all the data should be numerical.\n",
    "# hence we need to map the non-numerical data to numerical values.\n",
    "countries = {'UK': 0, 'USA': 1, 'N': 2}\n",
    "choice = {'YES': 1, 'NO': 0}\n",
    "\n",
    "# pandas map func. takes a dictionary to map values\n",
    "df['Nationality'] = df['Nationality'].map(countries)\n",
    "df['Go'] = df['Go'].map(choice)\n",
    "\n",
    "display(df.head(3))\n"
   ]
  },
  {
   "cell_type": "code",
   "execution_count": 24,
   "metadata": {},
   "outputs": [
    {
     "name": "stdout",
     "output_type": "stream",
     "text": [
      "independent variables (X)\n"
     ]
    },
    {
     "data": {
      "text/html": [
       "<div>\n",
       "<style scoped>\n",
       "    .dataframe tbody tr th:only-of-type {\n",
       "        vertical-align: middle;\n",
       "    }\n",
       "\n",
       "    .dataframe tbody tr th {\n",
       "        vertical-align: top;\n",
       "    }\n",
       "\n",
       "    .dataframe thead th {\n",
       "        text-align: right;\n",
       "    }\n",
       "</style>\n",
       "<table border=\"1\" class=\"dataframe\">\n",
       "  <thead>\n",
       "    <tr style=\"text-align: right;\">\n",
       "      <th></th>\n",
       "      <th>Age</th>\n",
       "      <th>Experience</th>\n",
       "      <th>Rank</th>\n",
       "      <th>Nationality</th>\n",
       "    </tr>\n",
       "  </thead>\n",
       "  <tbody>\n",
       "    <tr>\n",
       "      <th>0</th>\n",
       "      <td>36</td>\n",
       "      <td>10</td>\n",
       "      <td>9</td>\n",
       "      <td>0</td>\n",
       "    </tr>\n",
       "    <tr>\n",
       "      <th>1</th>\n",
       "      <td>42</td>\n",
       "      <td>12</td>\n",
       "      <td>4</td>\n",
       "      <td>1</td>\n",
       "    </tr>\n",
       "    <tr>\n",
       "      <th>2</th>\n",
       "      <td>23</td>\n",
       "      <td>4</td>\n",
       "      <td>6</td>\n",
       "      <td>2</td>\n",
       "    </tr>\n",
       "  </tbody>\n",
       "</table>\n",
       "</div>"
      ],
      "text/plain": [
       "   Age  Experience  Rank  Nationality\n",
       "0   36          10     9            0\n",
       "1   42          12     4            1\n",
       "2   23           4     6            2"
      ]
     },
     "metadata": {},
     "output_type": "display_data"
    },
    {
     "name": "stdout",
     "output_type": "stream",
     "text": [
      "dependent variables (y)\n"
     ]
    },
    {
     "data": {
      "text/plain": [
       "0    0\n",
       "1    0\n",
       "2    0\n",
       "Name: Go, dtype: int64"
      ]
     },
     "metadata": {},
     "output_type": "display_data"
    }
   ],
   "source": [
    "features = ['Age', 'Experience', 'Rank', 'Nationality']  # deciding features\n",
    "\n",
    "X = df[features]\n",
    "y = df['Go']\n",
    "\n",
    "print(\"independent variables (X)\")\n",
    "display(X.head(3))\n",
    "\n",
    "print(\"dependent variables (y)\")\n",
    "display(y.head(3))\n"
   ]
  },
  {
   "cell_type": "code",
   "execution_count": 25,
   "metadata": {},
   "outputs": [
    {
     "data": {
      "image/png": "[encoded data removed]",
      "text/plain": [
       "<Figure size 432x288 with 1 Axes>"
      ]
     },
     "metadata": {
      "needs_background": "light"
     },
     "output_type": "display_data"
    }
   ],
   "source": [
    "dtree = DecisionTreeClassifier()    # decision tree model\n",
    "dtree = dtree.fit(X.values, y)      # fit data set\n",
    "\n",
    "data = tree.plot_tree(dtree, feature_names=features, rounded=True, fontsize=9)\n"
   ]
  },
  {
   "cell_type": "code",
   "execution_count": 26,
   "metadata": {},
   "outputs": [
    {
     "name": "stdout",
     "output_type": "stream",
     "text": [
      "[1] = YES\n"
     ]
    }
   ],
   "source": [
    "# prediction: should I go see a show starring a 40 years old American comedian,\n",
    "# with 10 years of experience, and a comedy ranking of 7?\n",
    "res = dtree.predict([[40, 10, 7, 1]])               # [1] = YES   [0] = NO\n",
    "print(res, \"=\", \"YES\" if res[0] == 1 else \"NO\")\n"
   ]
  },
  {
   "cell_type": "markdown",
   "metadata": {},
   "source": [
    "#### Result Explained\n",
    "\n",
    "The decision tree uses your earlier decisions to calculate the odds for you to wanting to go see a comedian or not.\n",
    "Let us read the different aspects of the decision tree:\n",
    "\n",
    "![decision-tree-1](../docs/decisiontree1.JPG)\n",
    "\n",
    "**_Rank <= 6.5_** means that every comedian with a rank of 6.5 or lower will follow the True arrow (to the left), and the rest will follow the False arrow (to the right).\n",
    "\n",
    "**_gini = 0.497_** refers to the quality of the split, and is always a number between 0.0 and 0.5, where 0.0 would mean all of the samples got the same result, and 0.5 would mean that the split is done exactly in the middle.\n",
    "\n",
    "**_samples = 13_** means that there are 13 comedians left at this point in the decision, which is all of them since this is the first step.\n",
    "\n",
    "**_value = [6, 7]_** means that of these 13 comedians, 6 will get a \"NO\", and 7 will get a \"GO\".\n",
    "\n",
    "```\n",
    "GINI\n",
    "There are many ways to split the samples, we use the GINI method in this tutorial.\n",
    "The Gini method uses this formula:\n",
    "\n",
    "Gini = 1 - (x/n)2 - (y/n)2\n",
    "\n",
    "Where x is the number of positive answers(\"GO\"), n is the number of samples, and y is the number of negative answers (\"NO\"), which gives us this calculation:\n",
    "\n",
    "1 - (7 / 13)2 - (6 / 13)2 = 0.497\n",
    "```\n",
    "\n",
    "![decision-tree-2](../docs/decisiontree2.JPG)\n",
    "\n",
    "The next step contains two boxes, one box for the comedians with a 'Rank' of 6.5 or lower, and one box with the rest.\n",
    "\n",
    "True - 5 Comedians End Here:\n",
    "\n",
    "**_gini = 0.0_** means all of the samples got the same result.\n",
    "\n",
    "**_samples = 5_** means that there are 5 comedians left in this branch (5 comedian with a Rank of 6.5 or lower).\n",
    "\n",
    "**_value = [5, 0]_** means that 5 will get a \"NO\" and 0 will get a \"GO\".\n",
    "\n",
    "False - 8 Comedians Continue:\n",
    "\n",
    "**_Nationality <= 0.5_** means that the comedians with a nationality value of less than 0.5 will follow the arrow to the left (which means everyone from the UK, ), and the rest will follow the arrow to the right.\n",
    "\n",
    "**_gini = 0.219_** means that about 22% of the samples would go in one direction.\n",
    "\n",
    "**_samples = 8_** means that there are 8 comedians left in this branch (8 comedian with a Rank higher than 6.5).\n",
    "\n",
    "**_value = [1, 7]_** means that of these 8 comedians, 1 will get a \"NO\" and 7 will get a \"GO\".\n"
   ]
  }
 ],
 "metadata": {
  "kernelspec": {
   "display_name": "Python 3.10.5 ('.venv_ai_ml_projects': venv)",
   "language": "python",
   "name": "python3"
  },
  "language_info": {
   "codemirror_mode": {
    "name": "ipython",
    "version": 3
   },
   "file_extension": ".py",
   "mimetype": "text/x-python",
   "name": "python",
   "nbconvert_exporter": "python",
   "pygments_lexer": "ipython3",
   "version": "3.10.5"
  },
  "orig_nbformat": 4,
  "vscode": {
   "interpreter": {
    "hash": "576765eac21ce8b1c0513a0f9ce9a9d67475f57d1c23d3b7ccf65a15e2fe0d19"
   }
  }
 },
 "nbformat": 4,
 "nbformat_minor": 2
}
