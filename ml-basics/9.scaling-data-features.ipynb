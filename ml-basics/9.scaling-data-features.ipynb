{
 "cells": [
  {
   "cell_type": "markdown",
   "metadata": {},
   "source": [
    "### SCALING DATA FEATURES\n",
    "\n",
    "When your data has different values, and even different measurement units, it can be difficult to compare them. What is kilograms compared to meters? Or altitude compared to time?\n",
    "The answer to this problem is scaling. We can scale data into new values that are easier to compare.\n",
    "\n",
    "In cars.csv, weight 790gm and volume 1000ccm are some what comparable but in **cars1.csv**, weight 790gm and volume 1 litre (1000ccm) are not comparable here we need to scale the values to a comparable unit.\n",
    "Scaling can be done in many ways, here we use **_standardization formula_**.\n",
    "\n",
    "```\n",
    "new val. = (original val. - mean) / std. dev.\n",
    "scale weight value: (790 - 1292.23) / 238.74 = -2.1\n",
    "scale volume value: (1.0 - 1.61) / 0.38 = -1.59\n",
    "now we can compare -2.1 (weight) and -1.59 (volume)\n",
    "```\n"
   ]
  },
  {
   "cell_type": "code",
   "execution_count": 3,
   "metadata": {},
   "outputs": [
    {
     "name": "stdout",
     "output_type": "stream",
     "text": [
      "unscaled independent variables(X)\n"
     ]
    },
    {
     "data": {
      "text/html": [
       "<div>\n",
       "<style scoped>\n",
       "    .dataframe tbody tr th:only-of-type {\n",
       "        vertical-align: middle;\n",
       "    }\n",
       "\n",
       "    .dataframe tbody tr th {\n",
       "        vertical-align: top;\n",
       "    }\n",
       "\n",
       "    .dataframe thead th {\n",
       "        text-align: right;\n",
       "    }\n",
       "</style>\n",
       "<table border=\"1\" class=\"dataframe\">\n",
       "  <thead>\n",
       "    <tr style=\"text-align: right;\">\n",
       "      <th></th>\n",
       "      <th>Weight</th>\n",
       "      <th>Volume</th>\n",
       "    </tr>\n",
       "  </thead>\n",
       "  <tbody>\n",
       "    <tr>\n",
       "      <th>0</th>\n",
       "      <td>790</td>\n",
       "      <td>1.0</td>\n",
       "    </tr>\n",
       "    <tr>\n",
       "      <th>1</th>\n",
       "      <td>1160</td>\n",
       "      <td>1.2</td>\n",
       "    </tr>\n",
       "    <tr>\n",
       "      <th>2</th>\n",
       "      <td>929</td>\n",
       "      <td>1.0</td>\n",
       "    </tr>\n",
       "  </tbody>\n",
       "</table>\n",
       "</div>"
      ],
      "text/plain": [
       "   Weight  Volume\n",
       "0     790     1.0\n",
       "1    1160     1.2\n",
       "2     929     1.0"
      ]
     },
     "metadata": {},
     "output_type": "display_data"
    },
    {
     "name": "stdout",
     "output_type": "stream",
     "text": [
      "dependent variable(y)\n"
     ]
    },
    {
     "data": {
      "text/html": [
       "<div>\n",
       "<style scoped>\n",
       "    .dataframe tbody tr th:only-of-type {\n",
       "        vertical-align: middle;\n",
       "    }\n",
       "\n",
       "    .dataframe tbody tr th {\n",
       "        vertical-align: top;\n",
       "    }\n",
       "\n",
       "    .dataframe thead th {\n",
       "        text-align: right;\n",
       "    }\n",
       "</style>\n",
       "<table border=\"1\" class=\"dataframe\">\n",
       "  <thead>\n",
       "    <tr style=\"text-align: right;\">\n",
       "      <th></th>\n",
       "      <th>CO2</th>\n",
       "    </tr>\n",
       "  </thead>\n",
       "  <tbody>\n",
       "    <tr>\n",
       "      <th>0</th>\n",
       "      <td>99</td>\n",
       "    </tr>\n",
       "    <tr>\n",
       "      <th>1</th>\n",
       "      <td>95</td>\n",
       "    </tr>\n",
       "    <tr>\n",
       "      <th>2</th>\n",
       "      <td>95</td>\n",
       "    </tr>\n",
       "  </tbody>\n",
       "</table>\n",
       "</div>"
      ],
      "text/plain": [
       "   CO2\n",
       "0   99\n",
       "1   95\n",
       "2   95"
      ]
     },
     "metadata": {},
     "output_type": "display_data"
    }
   ],
   "source": [
    "import pandas\n",
    "from sklearn import linear_model\n",
    "from sklearn.preprocessing import StandardScaler\n",
    "\n",
    "df = pandas.read_csv(\"../data/cars1.csv\")\n",
    "\n",
    "X = df[[\"Weight\", \"Volume\"]]\n",
    "y = df[[\"CO2\"]]\n",
    "\n",
    "print(\"unscaled independent variables(X)\")\n",
    "display(X.head(3))\n",
    "\n",
    "print(\"dependent variable(y)\")\n",
    "display(y.head(3))\n"
   ]
  },
  {
   "cell_type": "code",
   "execution_count": 4,
   "metadata": {},
   "outputs": [
    {
     "name": "stdout",
     "output_type": "stream",
     "text": [
      "scaled independent variables(X)\n",
      "[[-2.10389253 -1.59336644]\n",
      " [-0.55407235 -1.07190106]\n",
      " [-1.52166278 -1.59336644]]\n",
      "predicted CO2: [[107.2087328]]\n"
     ]
    }
   ],
   "source": [
    "scale = StandardScaler()\n",
    "scaledX = scale.fit_transform(X.values)\n",
    "\n",
    "print(\"scaled independent variables(X)\")\n",
    "print(scaledX[:3])\n",
    "\n",
    "regr = linear_model.LinearRegression()  # create the regression model\n",
    "regr.fit(scaledX, y)\n",
    "\n",
    "scaled = scale.transform([[2300, 1.3]])  # scale these values\n",
    "\n",
    "predictedCO2 = regr.predict(scaled)\n",
    "print(\"predicted CO2:\", predictedCO2)\n"
   ]
  }
 ],
 "metadata": {
  "kernelspec": {
   "display_name": "Python 3.10.5 ('.venv_ai_ml_projects': venv)",
   "language": "python",
   "name": "python3"
  },
  "language_info": {
   "codemirror_mode": {
    "name": "ipython",
    "version": 3
   },
   "file_extension": ".py",
   "mimetype": "text/x-python",
   "name": "python",
   "nbconvert_exporter": "python",
   "pygments_lexer": "ipython3",
   "version": "3.10.5"
  },
  "orig_nbformat": 4,
  "vscode": {
   "interpreter": {
    "hash": "576765eac21ce8b1c0513a0f9ce9a9d67475f57d1c23d3b7ccf65a15e2fe0d19"
   }
  }
 },
 "nbformat": 4,
 "nbformat_minor": 2
}
