{
 "cells": [
  {
   "cell_type": "code",
   "execution_count": 15,
   "metadata": {},
   "outputs": [
    {
     "name": "stdout",
     "output_type": "stream",
     "text": [
      "independent variables(X)\n"
     ]
    },
    {
     "data": {
      "text/html": [
       "<div>\n",
       "<style scoped>\n",
       "    .dataframe tbody tr th:only-of-type {\n",
       "        vertical-align: middle;\n",
       "    }\n",
       "\n",
       "    .dataframe tbody tr th {\n",
       "        vertical-align: top;\n",
       "    }\n",
       "\n",
       "    .dataframe thead th {\n",
       "        text-align: right;\n",
       "    }\n",
       "</style>\n",
       "<table border=\"1\" class=\"dataframe\">\n",
       "  <thead>\n",
       "    <tr style=\"text-align: right;\">\n",
       "      <th></th>\n",
       "      <th>Weight</th>\n",
       "      <th>Volume</th>\n",
       "    </tr>\n",
       "  </thead>\n",
       "  <tbody>\n",
       "    <tr>\n",
       "      <th>0</th>\n",
       "      <td>790</td>\n",
       "      <td>1000</td>\n",
       "    </tr>\n",
       "    <tr>\n",
       "      <th>1</th>\n",
       "      <td>1160</td>\n",
       "      <td>1200</td>\n",
       "    </tr>\n",
       "    <tr>\n",
       "      <th>2</th>\n",
       "      <td>929</td>\n",
       "      <td>1000</td>\n",
       "    </tr>\n",
       "  </tbody>\n",
       "</table>\n",
       "</div>"
      ],
      "text/plain": [
       "   Weight  Volume\n",
       "0     790    1000\n",
       "1    1160    1200\n",
       "2     929    1000"
      ]
     },
     "metadata": {},
     "output_type": "display_data"
    },
    {
     "name": "stdout",
     "output_type": "stream",
     "text": [
      "dependent variable(y)\n"
     ]
    },
    {
     "data": {
      "text/html": [
       "<div>\n",
       "<style scoped>\n",
       "    .dataframe tbody tr th:only-of-type {\n",
       "        vertical-align: middle;\n",
       "    }\n",
       "\n",
       "    .dataframe tbody tr th {\n",
       "        vertical-align: top;\n",
       "    }\n",
       "\n",
       "    .dataframe thead th {\n",
       "        text-align: right;\n",
       "    }\n",
       "</style>\n",
       "<table border=\"1\" class=\"dataframe\">\n",
       "  <thead>\n",
       "    <tr style=\"text-align: right;\">\n",
       "      <th></th>\n",
       "      <th>CO2</th>\n",
       "    </tr>\n",
       "  </thead>\n",
       "  <tbody>\n",
       "    <tr>\n",
       "      <th>0</th>\n",
       "      <td>99</td>\n",
       "    </tr>\n",
       "    <tr>\n",
       "      <th>1</th>\n",
       "      <td>95</td>\n",
       "    </tr>\n",
       "    <tr>\n",
       "      <th>2</th>\n",
       "      <td>95</td>\n",
       "    </tr>\n",
       "  </tbody>\n",
       "</table>\n",
       "</div>"
      ],
      "text/plain": [
       "   CO2\n",
       "0   99\n",
       "1   95\n",
       "2   95"
      ]
     },
     "metadata": {},
     "output_type": "display_data"
    }
   ],
   "source": [
    "#--- MULTIPLE/POLYNOMIAL REGRESSION - DEMO PROJECT ---#\n",
    "import pandas\n",
    "from sklearn import linear_model\n",
    "\n",
    "df = pandas.read_csv(\"../data/cars.csv\")  # read the data file\n",
    "\n",
    "X = df[[\"Weight\", \"Volume\"]]    # independent variables\n",
    "y = df[[\"CO2\"]]                 # dependent variables\n",
    "\n",
    "print(\"independent variables(X)\")\n",
    "display(X.head(3))\n",
    "\n",
    "print(\"dependent variable(y)\")\n",
    "display(y.head(3))\n"
   ]
  },
  {
   "cell_type": "code",
   "execution_count": 16,
   "metadata": {},
   "outputs": [
    {
     "name": "stdout",
     "output_type": "stream",
     "text": [
      "predicted CO2: [[107.2087328]]\n"
     ]
    }
   ],
   "source": [
    "# create linear model and train with data\n",
    "regr = linear_model.LinearRegression()\n",
    "\n",
    "# fit with data-frame values only(trimmed header)\n",
    "regr.fit(X.values, y.values)\n",
    "\n",
    "# predict CO2 emission of car with weight is 2300g and volume is 1300ccm\n",
    "predictedCO2 = regr.predict([[2300, 1300]])\n",
    "print(\"predicted CO2:\", predictedCO2)\n"
   ]
  },
  {
   "cell_type": "code",
   "execution_count": 17,
   "metadata": {},
   "outputs": [
    {
     "name": "stdout",
     "output_type": "stream",
     "text": [
      "[[0.00755095 0.00780526]]\n"
     ]
    }
   ],
   "source": [
    "# coefficient is the degree of relationship with the unknown variable\n",
    "# y = 2x (unknown var. = 2 x known var.) here coefficient = 2\n",
    "coef = regr.coef_\n",
    "print(coef)\n",
    "\n",
    "# coef. of weight = 0.00755095 (with increase in 1 gm of weight, CO2 emission increases by 0.00755095 gm.)\n",
    "# coef. of volume = 0.00780526 (with increase in 1 ccm of volume, CO2 emission increases by 0.00780526 gm.)\n"
   ]
  },
  {
   "cell_type": "code",
   "execution_count": 18,
   "metadata": {},
   "outputs": [
    {
     "name": "stdout",
     "output_type": "stream",
     "text": [
      "predicted CO2: [[114.75968007]]\n",
      "result CO2: 114.75968280000001\n"
     ]
    }
   ],
   "source": [
    "# predictedCO2 = previous predictedCO2 + (increased weight)\n",
    "predictedCO2 = regr.predict([[3300, 1300]])\n",
    "print(\"predicted CO2:\", predictedCO2)\n",
    "\n",
    "# prev. prediction + (coeff. x increased weight) + (coeff. x increased volume)\n",
    "res = 107.2087328 + (1000 * 0.00755095) + (0 * 0.00780526)\n",
    "print(\"result CO2:\", res)\n"
   ]
  }
 ],
 "metadata": {
  "kernelspec": {
   "display_name": "Python 3.10.5 ('.venv_ai_ml_projects': venv)",
   "language": "python",
   "name": "python3"
  },
  "language_info": {
   "codemirror_mode": {
    "name": "ipython",
    "version": 3
   },
   "file_extension": ".py",
   "mimetype": "text/x-python",
   "name": "python",
   "nbconvert_exporter": "python",
   "pygments_lexer": "ipython3",
   "version": "3.10.5"
  },
  "orig_nbformat": 4,
  "vscode": {
   "interpreter": {
    "hash": "576765eac21ce8b1c0513a0f9ce9a9d67475f57d1c23d3b7ccf65a15e2fe0d19"
   }
  }
 },
 "nbformat": 4,
 "nbformat_minor": 2
}
