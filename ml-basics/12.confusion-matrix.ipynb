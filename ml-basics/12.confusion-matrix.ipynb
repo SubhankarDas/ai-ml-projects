{
 "cells": [
  {
   "cell_type": "markdown",
   "metadata": {},
   "source": [
    "#### Confusion Matrix\n",
    "\n",
    "It is a table that is used in classification problems to assess where errors in the model were made.\n",
    "\n",
    "The rows represent the actual classes the outcomes should have been. While the columns represent the predictions we have made. Using this table it is easy to see which predictions are wrong.\n"
   ]
  },
  {
   "cell_type": "code",
   "execution_count": 5,
   "metadata": {},
   "outputs": [
    {
     "name": "stdout",
     "output_type": "stream",
     "text": [
      "confusion matrix for our model:\n"
     ]
    },
    {
     "data": {
      "image/png": "[encoded data removed]",
      "text/plain": [
       "<Figure size 432x288 with 2 Axes>"
      ]
     },
     "metadata": {
      "needs_background": "light"
     },
     "output_type": "display_data"
    }
   ],
   "source": [
    "import matplotlib.pyplot as plt\n",
    "import numpy\n",
    "from sklearn import metrics\n",
    "%matplotlib inline\n",
    "\n",
    "# generate the numbers for \"actual\" and \"predicted\" values\n",
    "actual = numpy.random.binomial(1, .9, size=1000)\n",
    "predicted = numpy.random.binomial(1, .9, size=1000)\n",
    "\n",
    "confusion_matrix = metrics.confusion_matrix(actual, predicted)\n",
    "\n",
    "# convert the table into a confusion matrix display\n",
    "cm_display = metrics.ConfusionMatrixDisplay(confusion_matrix=confusion_matrix,\n",
    "                                            display_labels=[False, True])\n",
    "\n",
    "print(\"confusion matrix for our model:\")\n",
    "cm_display.plot()\n",
    "plt.show()\n"
   ]
  },
  {
   "cell_type": "markdown",
   "metadata": {},
   "source": [
    "### Results Explained\n",
    "\n",
    "The Confusion Matrix created has four different quadrants:\n",
    "\n",
    "True Negative (Top-Left Quadrant)-------------False Positive (Top-Right Quadrant)\n",
    "\n",
    "False Negative (Bottom-Left Quadrant)--------True Positive (Bottom-Right Quadrant)\n",
    "\n",
    "True means that the values were accurately predicted, False means that there was an error or wrong prediction.\n",
    "Now that we have made a Confusion Matrix, we can calculate different measures to quantify the quality of the model.\n"
   ]
  },
  {
   "cell_type": "code",
   "execution_count": 6,
   "metadata": {},
   "outputs": [
    {
     "name": "stdout",
     "output_type": "stream",
     "text": [
      "accuracy           :  0.809\n",
      "precision          :  0.8860619469026548\n",
      "sensitivity_recall :  0.9010123734533183\n",
      "specificity        :  0.07207207207207207\n",
      "f1_score           :  0.8934746235359732\n"
     ]
    }
   ],
   "source": [
    "#--- METRICS ---#\n",
    "\n",
    "# 1. accuracy measures how often the model is correct.\n",
    "# accuracy = (true positive + true negative) / total predictions\n",
    "accuracy = metrics.accuracy_score(actual, predicted)\n",
    "print(\"accuracy           : \", accuracy)\n",
    "\n",
    "# 2. precision of the positives predicted, what percentage is truly positive?\n",
    "# precision = true positive / (true positive + false positive)\n",
    "precision = metrics.precision_score(actual, predicted)\n",
    "print(\"precision          : \", precision)\n",
    "\n",
    "# 3. sensitivity (recall) of all the positive cases, what percentage are predicted positive?\n",
    "# sensitivity_recall = true positive / (true positive + false negative)\n",
    "sensitivity_recall = metrics.recall_score(actual, predicted)\n",
    "print(\"sensitivity_recall : \", sensitivity_recall)\n",
    "\n",
    "# 4. specificity - how well the model is at predicting negative results?\n",
    "# specificity = true negative / (true negative + false positive)\n",
    "specificity = metrics.recall_score(actual, predicted, pos_label=0)\n",
    "print(\"specificity        : \", specificity)\n",
    "\n",
    "# 5. f-score is the \"harmonic mean\" of precision and sensitivity. It considers both\n",
    "# false positive and false negative cases and is good for imbalanced datasets.\n",
    "# f1_score = 2 * ((precision * sensitivity) / (precision + sensitivity))\n",
    "f1_score = metrics.f1_score(actual, predicted)\n",
    "print(\"f1_score           : \", f1_score)\n"
   ]
  }
 ],
 "metadata": {
  "kernelspec": {
   "display_name": "Python 3.10.5 ('.venv_ai_ml_projects': venv)",
   "language": "python",
   "name": "python3"
  },
  "language_info": {
   "codemirror_mode": {
    "name": "ipython",
    "version": 3
   },
   "file_extension": ".py",
   "mimetype": "text/x-python",
   "name": "python",
   "nbconvert_exporter": "python",
   "pygments_lexer": "ipython3",
   "version": "3.10.5"
  },
  "orig_nbformat": 4,
  "vscode": {
   "interpreter": {
    "hash": "576765eac21ce8b1c0513a0f9ce9a9d67475f57d1c23d3b7ccf65a15e2fe0d19"
   }
  }
 },
 "nbformat": 4,
 "nbformat_minor": 2
}
