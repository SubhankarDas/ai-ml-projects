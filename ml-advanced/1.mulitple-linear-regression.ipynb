{
 "cells": [
  {
   "cell_type": "markdown",
   "metadata": {},
   "source": [
    "### ALGORITHM 1: (MULTIPLE/POLYNOMIAL) LINEAR REGRESSION\n",
    "\n",
    "This is a regression algorithm that is used to predict values based on independent parameters and relationship\n",
    "between the independent values (X) and dependent values (y) which has to be linear in nature.\n",
    "That is Y = m \\* X + c defines the relationship in the dataset.\n",
    "\n",
    "Types of linear regression:\n",
    "\n",
    "1.  Simple linear regression (one independent value, one dependent value)\n",
    "2.  Multiple linear regression (multiple independent value, one dependent value)\n",
    "\n",
    "```\n",
    "    y = (m1 * x1) + (m2 * x2) + ... + (mn * xn) + c\n",
    "```\n",
    "\n",
    "Here m1, m2, m3, ..., mn -> Coefficients of the independent variables and C is the intercept\n"
   ]
  },
  {
   "cell_type": "code",
   "execution_count": 10,
   "metadata": {},
   "outputs": [],
   "source": [
    "# importing required libraries\n",
    "import pandas as pd\n",
    "from sklearn.linear_model import LinearRegression\n",
    "from sklearn.model_selection import train_test_split\n",
    "\n",
    "# read the train and test dataset [sales trend of outlets]\n",
    "dataset = pd.read_csv(\"../data/sales.csv\")\n",
    "train_data, test_data = train_test_split(dataset, test_size=0.2, shuffle=False)\n",
    "\n",
    "# separate the train and test X and y dataset\n",
    "# drop output column for X data\n",
    "train_X = train_data.drop(\"Item_Outlet_Sales\", axis=1)\n",
    "test_X = test_data.drop(\"Item_Outlet_Sales\", axis=1)\n",
    "\n",
    "# select output column for y data\n",
    "train_y = train_data[\"Item_Outlet_Sales\"]\n",
    "test_y = test_data[\"Item_Outlet_Sales\"]\n"
   ]
  },
  {
   "cell_type": "code",
   "execution_count": 11,
   "metadata": {},
   "outputs": [
    {
     "name": "stdout",
     "output_type": "stream",
     "text": [
      "coefficient of model :  [-3.58242823e+00  1.65313103e+02  1.63248734e+01  5.94829654e+01\n",
      " -2.59414781e+02  1.10393473e+02  2.59634746e+02 -1.59789078e+02\n",
      "  4.91756397e+01 -1.44539139e+00 -4.29457715e+02  1.64481273e+02\n",
      " -1.75078123e+01  1.91174118e+01 -1.53223114e+01 -1.47647949e+01\n",
      "  1.65542905e+02 -9.19873039e+00  1.58460777e+02 -9.73632637e+01\n",
      "  2.97589189e+02 -9.14076374e+01  1.45490746e+02  2.09559698e+01\n",
      " -2.95170617e+02  1.33951108e+03  3.61239095e+02  8.08460015e+01\n",
      "  3.15933055e+02  1.39210370e+01 -3.29854092e+02 -1.28363351e+03\n",
      " -2.25703843e+02 -9.89989554e+02  2.49932691e+03]\n",
      "intercept of model   :  -119158.54038050926\n"
     ]
    }
   ],
   "source": [
    "# create the linear model and train it\n",
    "model = LinearRegression()\n",
    "model.fit(train_X, train_y)\n",
    "\n",
    "# coefficients of the trained model (m)\n",
    "print(\"coefficient of model : \", model.coef_)\n",
    "\n",
    "# intercept of the model (c)\n",
    "print(\"intercept of model   : \", model.intercept_)\n"
   ]
  },
  {
   "cell_type": "code",
   "execution_count": 12,
   "metadata": {},
   "outputs": [
    {
     "name": "stdout",
     "output_type": "stream",
     "text": [
      "predicted sales  :  [3944.78518137 2403.83520902  971.30469486 -921.2742577  2831.74296356]\n",
      "score of model   :  52.71382514080665 %\n"
     ]
    }
   ],
   "source": [
    "# predict the results [sales for outlets]\n",
    "pred_y = model.predict(test_X)\n",
    "print(\"predicted sales  : \", pred_y[0:5])\n",
    "\n",
    "# score of the model\n",
    "score = model.score(test_X, test_y)\n",
    "print(\"score of model   : \", score * 100, \"%\")\n"
   ]
  }
 ],
 "metadata": {
  "kernelspec": {
   "display_name": "Python 3.10.5 ('.venv_ai_ml_projects': venv)",
   "language": "python",
   "name": "python3"
  },
  "language_info": {
   "codemirror_mode": {
    "name": "ipython",
    "version": 3
   },
   "file_extension": ".py",
   "mimetype": "text/x-python",
   "name": "python",
   "nbconvert_exporter": "python",
   "pygments_lexer": "ipython3",
   "version": "3.10.5"
  },
  "orig_nbformat": 4,
  "vscode": {
   "interpreter": {
    "hash": "576765eac21ce8b1c0513a0f9ce9a9d67475f57d1c23d3b7ccf65a15e2fe0d19"
   }
  }
 },
 "nbformat": 4,
 "nbformat_minor": 2
}
