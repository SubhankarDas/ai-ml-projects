{
 "cells": [
  {
   "cell_type": "markdown",
   "metadata": {},
   "source": [
    "### ALGORITHM 6: K-MEANS CLASSIFIER\n",
    "\n",
    "This is an unsupervised clustering algorithm, that classify data points into 'K' no. of homogeneous clusters,\n",
    "that are heterogenous to other clusters. The algorithm follows these steps to cluster data points,\n",
    "\n",
    "1. Choose K no. of random centroids for K no. of clusters.\n",
    "2. Then assigning data points to closest of the K clusters.\n",
    "3. Find new centroids for these K clusters based on the mean value.\n",
    "4. Repeat steps 2 and 3, until all the centroids have converged i.e centroids did not changed.\n",
    "\n",
    "The sum of squared distances between the centroids and data points is total sum of squared value of the solution.\n",
    "This number decreases with the increase of the number of clusters i.e K.\n"
   ]
  },
  {
   "cell_type": "code",
   "execution_count": 94,
   "metadata": {},
   "outputs": [],
   "source": [
    "# importing required libraries\n",
    "import pandas as pd\n",
    "from sklearn.cluster import KMeans\n",
    "from sklearn.model_selection import train_test_split\n",
    "from sklearn.metrics import accuracy_score\n",
    "\n",
    "# read the train and test dataset\n",
    "dataset = pd.read_csv(\"../data/income.csv\")\n",
    "train_data, test_data = train_test_split(dataset, test_size=0.2, shuffle=False)\n"
   ]
  },
  {
   "cell_type": "code",
   "execution_count": 95,
   "metadata": {},
   "outputs": [
    {
     "name": "stdout",
     "output_type": "stream",
     "text": [
      "test data :\n"
     ]
    },
    {
     "data": {
      "text/html": [
       "<div>\n",
       "<style scoped>\n",
       "    .dataframe tbody tr th:only-of-type {\n",
       "        vertical-align: middle;\n",
       "    }\n",
       "\n",
       "    .dataframe tbody tr th {\n",
       "        vertical-align: top;\n",
       "    }\n",
       "\n",
       "    .dataframe thead th {\n",
       "        text-align: right;\n",
       "    }\n",
       "</style>\n",
       "<table border=\"1\" class=\"dataframe\">\n",
       "  <thead>\n",
       "    <tr style=\"text-align: right;\">\n",
       "      <th></th>\n",
       "      <th>Age</th>\n",
       "      <th>Annual Income (k$)</th>\n",
       "      <th>Spending Score (1-100)</th>\n",
       "      <th>Genre_Female</th>\n",
       "      <th>Genre_Male</th>\n",
       "    </tr>\n",
       "  </thead>\n",
       "  <tbody>\n",
       "    <tr>\n",
       "      <th>160</th>\n",
       "      <td>50</td>\n",
       "      <td>67</td>\n",
       "      <td>57</td>\n",
       "      <td>1</td>\n",
       "      <td>0</td>\n",
       "    </tr>\n",
       "    <tr>\n",
       "      <th>161</th>\n",
       "      <td>65</td>\n",
       "      <td>63</td>\n",
       "      <td>52</td>\n",
       "      <td>0</td>\n",
       "      <td>1</td>\n",
       "    </tr>\n",
       "    <tr>\n",
       "      <th>162</th>\n",
       "      <td>24</td>\n",
       "      <td>60</td>\n",
       "      <td>52</td>\n",
       "      <td>0</td>\n",
       "      <td>1</td>\n",
       "    </tr>\n",
       "    <tr>\n",
       "      <th>163</th>\n",
       "      <td>33</td>\n",
       "      <td>86</td>\n",
       "      <td>95</td>\n",
       "      <td>1</td>\n",
       "      <td>0</td>\n",
       "    </tr>\n",
       "    <tr>\n",
       "      <th>164</th>\n",
       "      <td>38</td>\n",
       "      <td>113</td>\n",
       "      <td>91</td>\n",
       "      <td>1</td>\n",
       "      <td>0</td>\n",
       "    </tr>\n",
       "  </tbody>\n",
       "</table>\n",
       "</div>"
      ],
      "text/plain": [
       "     Age  Annual Income (k$)  Spending Score (1-100)  Genre_Female  Genre_Male\n",
       "160   50                  67                      57             1           0\n",
       "161   65                  63                      52             0           1\n",
       "162   24                  60                      52             0           1\n",
       "163   33                  86                      95             1           0\n",
       "164   38                 113                      91             1           0"
      ]
     },
     "metadata": {},
     "output_type": "display_data"
    }
   ],
   "source": [
    "# create the model and train with data\n",
    "model = KMeans(n_clusters=5)\n",
    "model.fit(train_data.values)\n",
    "\n",
    "print(\"test data :\")\n",
    "display(test_data.head())\n"
   ]
  },
  {
   "cell_type": "code",
   "execution_count": 96,
   "metadata": {},
   "outputs": [
    {
     "name": "stdout",
     "output_type": "stream",
     "text": [
      "predicted data : [4 4 4 0 0]\n",
      "predicted cluster for data : [1]\n",
      "no. of clusters : 5\n",
      "cluster centroids:\n",
      "[[32.55882353 86.32352941 81.91176471  0.47058824  0.52941176]\n",
      " [39.73333333 84.53333333 17.33333333  0.43333333  0.56666667]\n",
      " [45.7        25.75       21.9         0.65        0.35      ]\n",
      " [24.94736842 28.52631579 76.          0.63157895  0.36842105]\n",
      " [45.35087719 55.24561404 48.77192982  0.63157895  0.36842105]]\n"
     ]
    }
   ],
   "source": [
    "# predict the results\n",
    "pred_data = model.predict(test_data.values)\n",
    "print(\"predicted data :\", pred_data[:5])\n",
    "\n",
    "# predict the cluster for a new data point (age=65, income=113k$, spending score=52, gender=male)\n",
    "data_point = [[65, 113, 52, 0, 1]]\n",
    "pred_cluster = model.predict(data_point)\n",
    "print(\"predicted cluster for data :\", pred_cluster)\n",
    "\n",
    "# print the cluster centroids\n",
    "print(\"no. of clusters :\", model.n_clusters)\n",
    "print(\"cluster centroids:\")\n",
    "print(model.cluster_centers_)\n"
   ]
  }
 ],
 "metadata": {
  "kernelspec": {
   "display_name": "Python 3.10.5 ('.venv_ai_ml_projects': venv)",
   "language": "python",
   "name": "python3"
  },
  "language_info": {
   "codemirror_mode": {
    "name": "ipython",
    "version": 3
   },
   "file_extension": ".py",
   "mimetype": "text/x-python",
   "name": "python",
   "nbconvert_exporter": "python",
   "pygments_lexer": "ipython3",
   "version": "3.10.5"
  },
  "orig_nbformat": 4,
  "vscode": {
   "interpreter": {
    "hash": "576765eac21ce8b1c0513a0f9ce9a9d67475f57d1c23d3b7ccf65a15e2fe0d19"
   }
  }
 },
 "nbformat": 4,
 "nbformat_minor": 2
}
